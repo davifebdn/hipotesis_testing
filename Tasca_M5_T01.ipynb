{
  "nbformat": 4,
  "nbformat_minor": 0,
  "metadata": {
    "colab": {
      "name": "Tasca M5 T01.ipynb",
      "provenance": [],
      "toc_visible": true,
      "mount_file_id": "1JBY1XWD6ZjMjm74WTdyuSbEWGzRK8CH0",
      "authorship_tag": "ABX9TyOWhUzH7cAx6+Yi1TVdr9ZI",
      "include_colab_link": true
    },
    "kernelspec": {
      "name": "python3",
      "display_name": "Python 3"
    },
    "language_info": {
      "name": "python"
    }
  },
  "cells": [
    {
      "cell_type": "markdown",
      "metadata": {
        "id": "view-in-github",
        "colab_type": "text"
      },
      "source": [
        "<a href=\"https://colab.research.google.com/github/davifebdn/hipotesis_testing/blob/main/Tasca_M5_T01.ipynb\" target=\"_parent\"><img src=\"https://colab.research.google.com/assets/colab-badge.svg\" alt=\"Open In Colab\"/></a>"
      ]
    },
    {
      "cell_type": "markdown",
      "source": [
        "#M5 T01\n",
        "Exercicis d'Hipotesis Testing."
      ],
      "metadata": {
        "id": "H0qy0pvXmiA2"
      }
    },
    {
      "cell_type": "markdown",
      "source": [
        "##Exercici 1\n",
        "\n",
        "Descarrega el dataset adjunt de dades oficials de la UEFA i selecciona un atribut del conjunt de dades. Calcula el p-valor i digues si rebutja la hipòtesi nul·la agafant un alfa de 5%."
      ],
      "metadata": {
        "id": "aYPNXjs0mpvl"
      }
    },
    {
      "cell_type": "code",
      "source": [
        "#Importació\n",
        "import pandas as pd"
      ],
      "metadata": {
        "id": "IAd-5B7On0R5"
      },
      "execution_count": 2,
      "outputs": []
    },
    {
      "cell_type": "code",
      "execution_count": 3,
      "metadata": {
        "colab": {
          "base_uri": "https://localhost:8080/",
          "height": 491
        },
        "id": "NbY_DB0nmdAr",
        "outputId": "6e62d5c3-bc45-4e36-8683-f208ca7782c6"
      },
      "outputs": [
        {
          "output_type": "execute_result",
          "data": {
            "text/plain": [
              "   Rk            Squad Country  LgRk  MP   W  D  L  GF  GA  ...  Pts  Pts/G  \\\n",
              "0   1  Manchester City     ENG     1  37  28  6  3  96  24  ...   90   2.43   \n",
              "1   2        Liverpool     ENG     2  36  26  8  2  89  24  ...   86   2.39   \n",
              "2   3      Real Madrid     ESP     1  37  26  7  4  80  31  ...   85   2.30   \n",
              "3   4    Bayern Munich     GER     1  34  24  5  5  97  37  ...   77   2.26   \n",
              "4   5        Paris S-G     FRA     1  37  25  8  4  85  36  ...   83   2.24   \n",
              "\n",
              "     xG   xGA   xGD  xGD/90     Last 5 Attendance          Top Team Scorer  \\\n",
              "0  86.1  26.8  59.3    1.60  W W W W D      52739     Kevin De Bruyne - 15   \n",
              "1  84.6  33.1  51.4    1.43  W W W D W      53367       Mohamed Salah - 22   \n",
              "2  73.0  45.8  27.2    0.73  W W L W D      40624       Karim Benzema - 27   \n",
              "3  88.1  37.1  51.0    1.50  W W L D D      33176  Robert Lewandowski - 35   \n",
              "4  71.6  38.1  33.4    0.90  W D D D W      41188       Kylian Mbappé - 25   \n",
              "\n",
              "         Goalkeeper  \n",
              "0           Ederson  \n",
              "1           Alisson  \n",
              "2  Thibaut Courtois  \n",
              "3      Manuel Neuer  \n",
              "4      Keylor Navas  \n",
              "\n",
              "[5 rows x 21 columns]"
            ],
            "text/html": [
              "\n",
              "  <div id=\"df-7eee7997-d7e8-40a1-aee8-00deb09b1929\">\n",
              "    <div class=\"colab-df-container\">\n",
              "      <div>\n",
              "<style scoped>\n",
              "    .dataframe tbody tr th:only-of-type {\n",
              "        vertical-align: middle;\n",
              "    }\n",
              "\n",
              "    .dataframe tbody tr th {\n",
              "        vertical-align: top;\n",
              "    }\n",
              "\n",
              "    .dataframe thead th {\n",
              "        text-align: right;\n",
              "    }\n",
              "</style>\n",
              "<table border=\"1\" class=\"dataframe\">\n",
              "  <thead>\n",
              "    <tr style=\"text-align: right;\">\n",
              "      <th></th>\n",
              "      <th>Rk</th>\n",
              "      <th>Squad</th>\n",
              "      <th>Country</th>\n",
              "      <th>LgRk</th>\n",
              "      <th>MP</th>\n",
              "      <th>W</th>\n",
              "      <th>D</th>\n",
              "      <th>L</th>\n",
              "      <th>GF</th>\n",
              "      <th>GA</th>\n",
              "      <th>...</th>\n",
              "      <th>Pts</th>\n",
              "      <th>Pts/G</th>\n",
              "      <th>xG</th>\n",
              "      <th>xGA</th>\n",
              "      <th>xGD</th>\n",
              "      <th>xGD/90</th>\n",
              "      <th>Last 5</th>\n",
              "      <th>Attendance</th>\n",
              "      <th>Top Team Scorer</th>\n",
              "      <th>Goalkeeper</th>\n",
              "    </tr>\n",
              "  </thead>\n",
              "  <tbody>\n",
              "    <tr>\n",
              "      <th>0</th>\n",
              "      <td>1</td>\n",
              "      <td>Manchester City</td>\n",
              "      <td>ENG</td>\n",
              "      <td>1</td>\n",
              "      <td>37</td>\n",
              "      <td>28</td>\n",
              "      <td>6</td>\n",
              "      <td>3</td>\n",
              "      <td>96</td>\n",
              "      <td>24</td>\n",
              "      <td>...</td>\n",
              "      <td>90</td>\n",
              "      <td>2.43</td>\n",
              "      <td>86.1</td>\n",
              "      <td>26.8</td>\n",
              "      <td>59.3</td>\n",
              "      <td>1.60</td>\n",
              "      <td>W W W W D</td>\n",
              "      <td>52739</td>\n",
              "      <td>Kevin De Bruyne - 15</td>\n",
              "      <td>Ederson</td>\n",
              "    </tr>\n",
              "    <tr>\n",
              "      <th>1</th>\n",
              "      <td>2</td>\n",
              "      <td>Liverpool</td>\n",
              "      <td>ENG</td>\n",
              "      <td>2</td>\n",
              "      <td>36</td>\n",
              "      <td>26</td>\n",
              "      <td>8</td>\n",
              "      <td>2</td>\n",
              "      <td>89</td>\n",
              "      <td>24</td>\n",
              "      <td>...</td>\n",
              "      <td>86</td>\n",
              "      <td>2.39</td>\n",
              "      <td>84.6</td>\n",
              "      <td>33.1</td>\n",
              "      <td>51.4</td>\n",
              "      <td>1.43</td>\n",
              "      <td>W W W D W</td>\n",
              "      <td>53367</td>\n",
              "      <td>Mohamed Salah - 22</td>\n",
              "      <td>Alisson</td>\n",
              "    </tr>\n",
              "    <tr>\n",
              "      <th>2</th>\n",
              "      <td>3</td>\n",
              "      <td>Real Madrid</td>\n",
              "      <td>ESP</td>\n",
              "      <td>1</td>\n",
              "      <td>37</td>\n",
              "      <td>26</td>\n",
              "      <td>7</td>\n",
              "      <td>4</td>\n",
              "      <td>80</td>\n",
              "      <td>31</td>\n",
              "      <td>...</td>\n",
              "      <td>85</td>\n",
              "      <td>2.30</td>\n",
              "      <td>73.0</td>\n",
              "      <td>45.8</td>\n",
              "      <td>27.2</td>\n",
              "      <td>0.73</td>\n",
              "      <td>W W L W D</td>\n",
              "      <td>40624</td>\n",
              "      <td>Karim Benzema - 27</td>\n",
              "      <td>Thibaut Courtois</td>\n",
              "    </tr>\n",
              "    <tr>\n",
              "      <th>3</th>\n",
              "      <td>4</td>\n",
              "      <td>Bayern Munich</td>\n",
              "      <td>GER</td>\n",
              "      <td>1</td>\n",
              "      <td>34</td>\n",
              "      <td>24</td>\n",
              "      <td>5</td>\n",
              "      <td>5</td>\n",
              "      <td>97</td>\n",
              "      <td>37</td>\n",
              "      <td>...</td>\n",
              "      <td>77</td>\n",
              "      <td>2.26</td>\n",
              "      <td>88.1</td>\n",
              "      <td>37.1</td>\n",
              "      <td>51.0</td>\n",
              "      <td>1.50</td>\n",
              "      <td>W W L D D</td>\n",
              "      <td>33176</td>\n",
              "      <td>Robert Lewandowski - 35</td>\n",
              "      <td>Manuel Neuer</td>\n",
              "    </tr>\n",
              "    <tr>\n",
              "      <th>4</th>\n",
              "      <td>5</td>\n",
              "      <td>Paris S-G</td>\n",
              "      <td>FRA</td>\n",
              "      <td>1</td>\n",
              "      <td>37</td>\n",
              "      <td>25</td>\n",
              "      <td>8</td>\n",
              "      <td>4</td>\n",
              "      <td>85</td>\n",
              "      <td>36</td>\n",
              "      <td>...</td>\n",
              "      <td>83</td>\n",
              "      <td>2.24</td>\n",
              "      <td>71.6</td>\n",
              "      <td>38.1</td>\n",
              "      <td>33.4</td>\n",
              "      <td>0.90</td>\n",
              "      <td>W D D D W</td>\n",
              "      <td>41188</td>\n",
              "      <td>Kylian Mbappé - 25</td>\n",
              "      <td>Keylor Navas</td>\n",
              "    </tr>\n",
              "  </tbody>\n",
              "</table>\n",
              "<p>5 rows × 21 columns</p>\n",
              "</div>\n",
              "      <button class=\"colab-df-convert\" onclick=\"convertToInteractive('df-7eee7997-d7e8-40a1-aee8-00deb09b1929')\"\n",
              "              title=\"Convert this dataframe to an interactive table.\"\n",
              "              style=\"display:none;\">\n",
              "        \n",
              "  <svg xmlns=\"http://www.w3.org/2000/svg\" height=\"24px\"viewBox=\"0 0 24 24\"\n",
              "       width=\"24px\">\n",
              "    <path d=\"M0 0h24v24H0V0z\" fill=\"none\"/>\n",
              "    <path d=\"M18.56 5.44l.94 2.06.94-2.06 2.06-.94-2.06-.94-.94-2.06-.94 2.06-2.06.94zm-11 1L8.5 8.5l.94-2.06 2.06-.94-2.06-.94L8.5 2.5l-.94 2.06-2.06.94zm10 10l.94 2.06.94-2.06 2.06-.94-2.06-.94-.94-2.06-.94 2.06-2.06.94z\"/><path d=\"M17.41 7.96l-1.37-1.37c-.4-.4-.92-.59-1.43-.59-.52 0-1.04.2-1.43.59L10.3 9.45l-7.72 7.72c-.78.78-.78 2.05 0 2.83L4 21.41c.39.39.9.59 1.41.59.51 0 1.02-.2 1.41-.59l7.78-7.78 2.81-2.81c.8-.78.8-2.07 0-2.86zM5.41 20L4 18.59l7.72-7.72 1.47 1.35L5.41 20z\"/>\n",
              "  </svg>\n",
              "      </button>\n",
              "      \n",
              "  <style>\n",
              "    .colab-df-container {\n",
              "      display:flex;\n",
              "      flex-wrap:wrap;\n",
              "      gap: 12px;\n",
              "    }\n",
              "\n",
              "    .colab-df-convert {\n",
              "      background-color: #E8F0FE;\n",
              "      border: none;\n",
              "      border-radius: 50%;\n",
              "      cursor: pointer;\n",
              "      display: none;\n",
              "      fill: #1967D2;\n",
              "      height: 32px;\n",
              "      padding: 0 0 0 0;\n",
              "      width: 32px;\n",
              "    }\n",
              "\n",
              "    .colab-df-convert:hover {\n",
              "      background-color: #E2EBFA;\n",
              "      box-shadow: 0px 1px 2px rgba(60, 64, 67, 0.3), 0px 1px 3px 1px rgba(60, 64, 67, 0.15);\n",
              "      fill: #174EA6;\n",
              "    }\n",
              "\n",
              "    [theme=dark] .colab-df-convert {\n",
              "      background-color: #3B4455;\n",
              "      fill: #D2E3FC;\n",
              "    }\n",
              "\n",
              "    [theme=dark] .colab-df-convert:hover {\n",
              "      background-color: #434B5C;\n",
              "      box-shadow: 0px 1px 3px 1px rgba(0, 0, 0, 0.15);\n",
              "      filter: drop-shadow(0px 1px 2px rgba(0, 0, 0, 0.3));\n",
              "      fill: #FFFFFF;\n",
              "    }\n",
              "  </style>\n",
              "\n",
              "      <script>\n",
              "        const buttonEl =\n",
              "          document.querySelector('#df-7eee7997-d7e8-40a1-aee8-00deb09b1929 button.colab-df-convert');\n",
              "        buttonEl.style.display =\n",
              "          google.colab.kernel.accessAllowed ? 'block' : 'none';\n",
              "\n",
              "        async function convertToInteractive(key) {\n",
              "          const element = document.querySelector('#df-7eee7997-d7e8-40a1-aee8-00deb09b1929');\n",
              "          const dataTable =\n",
              "            await google.colab.kernel.invokeFunction('convertToInteractive',\n",
              "                                                     [key], {});\n",
              "          if (!dataTable) return;\n",
              "\n",
              "          const docLinkHtml = 'Like what you see? Visit the ' +\n",
              "            '<a target=\"_blank\" href=https://colab.research.google.com/notebooks/data_table.ipynb>data table notebook</a>'\n",
              "            + ' to learn more about interactive tables.';\n",
              "          element.innerHTML = '';\n",
              "          dataTable['output_type'] = 'display_data';\n",
              "          await google.colab.output.renderOutput(dataTable, element);\n",
              "          const docLink = document.createElement('div');\n",
              "          docLink.innerHTML = docLinkHtml;\n",
              "          element.appendChild(docLink);\n",
              "        }\n",
              "      </script>\n",
              "    </div>\n",
              "  </div>\n",
              "  "
            ]
          },
          "metadata": {},
          "execution_count": 3
        }
      ],
      "source": [
        "#Càrrega de les dades\n",
        "uefa = pd.read_csv(\"/content/drive/MyDrive/IT Academy/Data Science/Sprint 5. Introducció al Test d'Hipòtesis i al Machine Learning/M5T01/Lligues europees UEFA.csv\", sep=';',encoding=\"ISO-8859-1\")\n",
        "uefa.head()"
      ]
    },
    {
      "cell_type": "markdown",
      "source": [
        "La càrrega del dataset donava l'error `UnicodeDecodeError: 'utf-8' codec can't decode bytes in position...`, s'ha hagut de codificar amb ISO `ISO-8859-1` i separador `;`.\n",
        "\n"
      ],
      "metadata": {
        "id": "xlwghRyIrmjK"
      }
    },
    {
      "cell_type": "markdown",
      "source": [
        "A continuació, abans de començar amb la tasca, fem un breu anàlisi del dataset."
      ],
      "metadata": {
        "id": "s4ZHuOrHwCoz"
      }
    },
    {
      "cell_type": "code",
      "source": [
        "uefa.shape"
      ],
      "metadata": {
        "colab": {
          "base_uri": "https://localhost:8080/"
        },
        "id": "UFqmqntgt12I",
        "outputId": "333667bc-7188-48ca-c3da-097e07f3c02f"
      },
      "execution_count": 4,
      "outputs": [
        {
          "output_type": "execute_result",
          "data": {
            "text/plain": [
              "(98, 21)"
            ]
          },
          "metadata": {},
          "execution_count": 4
        }
      ]
    },
    {
      "cell_type": "markdown",
      "source": [
        "La base té 98 files i 21 col·lumnes."
      ],
      "metadata": {
        "id": "qxfYg3YwwMMq"
      }
    },
    {
      "cell_type": "markdown",
      "source": [
        "Aquí expliquem el significat de cada columna:\n",
        "\n",
        "* **Rk**: Ranking, possició en la que ha quedat l'equip, relacionat a la columna Pts.\n",
        "* **Squad**: Nom de l'equip.\n",
        "* **Country**: País de l'equip.\n",
        "* **LgRk**: League Ranking, possició de l'equip a la lliga del seu país.\n",
        "* **MP**: Matches Played, partis jugats.\n",
        "* **W**: Wins, partits guanyats.\n",
        "* **D**: Draws, partis empatats.\n",
        "* **L**: Losses, partits perduts.\n",
        "* **GF**:\tGoals For, gols a favor.\n",
        "* **GA**:\tGoals Against, gols en contra.\n",
        "* **GD**:\tGoal Difference, és la resta de les dues anteriors columnes.\n",
        "* **Pts**: Points. Els punts totals dels partits guanyats (3 punts) i els empatats (1 punt).\n",
        "* **Pts/G**: Points/Game, mitjana de punts per cada partit. \n",
        "* **xG**: Expected Goal, probabilitat de gol.\n",
        "* **xGA**: Expected Goal Against, probabilitat de gol en contra.\n",
        "* **xGD**: Expected Goal Difference, diferència de probabilitat, és la resta de les dues columnes anteriors.\n",
        "* **xGD/90**: La diferència de probabilitat cada 90 minuts (la duració d'un partit).\n",
        "* **Last 5**:\tResultat dels últims 5 partits (W, D o L).\n",
        "* **Attendance**: Quantitat d'espectadors que han anat al camp.\n",
        "* **Top Team Scorer**: Jugador que més gols ha marcat.\n",
        "* **Goalkeeper**: Porter.\n",
        "\n",
        "El significat de les columnes de probabilitat ho he trobat [aquí](https://expectedscore.com/faq/how-to-use-the-xg-tables/)."
      ],
      "metadata": {
        "id": "pxdQ9ogcEkWl"
      }
    },
    {
      "cell_type": "code",
      "source": [
        "uefa.info()"
      ],
      "metadata": {
        "colab": {
          "base_uri": "https://localhost:8080/"
        },
        "id": "PsFSzNfyBAYD",
        "outputId": "3b132948-6b65-4419-b56c-5886a3b3419a"
      },
      "execution_count": 5,
      "outputs": [
        {
          "output_type": "stream",
          "name": "stdout",
          "text": [
            "<class 'pandas.core.frame.DataFrame'>\n",
            "RangeIndex: 98 entries, 0 to 97\n",
            "Data columns (total 21 columns):\n",
            " #   Column           Non-Null Count  Dtype  \n",
            "---  ------           --------------  -----  \n",
            " 0   Rk               98 non-null     int64  \n",
            " 1   Squad            98 non-null     object \n",
            " 2   Country          98 non-null     object \n",
            " 3   LgRk             98 non-null     int64  \n",
            " 4   MP               98 non-null     int64  \n",
            " 5   W                98 non-null     int64  \n",
            " 6   D                98 non-null     int64  \n",
            " 7   L                98 non-null     int64  \n",
            " 8   GF               98 non-null     int64  \n",
            " 9   GA               98 non-null     int64  \n",
            " 10  GD               98 non-null     int64  \n",
            " 11  Pts              98 non-null     int64  \n",
            " 12  Pts/G            98 non-null     float64\n",
            " 13  xG               98 non-null     float64\n",
            " 14  xGA              98 non-null     float64\n",
            " 15  xGD              98 non-null     float64\n",
            " 16  xGD/90           98 non-null     float64\n",
            " 17  Last 5           98 non-null     object \n",
            " 18  Attendance       98 non-null     int64  \n",
            " 19  Top Team Scorer  98 non-null     object \n",
            " 20  Goalkeeper       98 non-null     object \n",
            "dtypes: float64(5), int64(11), object(5)\n",
            "memory usage: 16.2+ KB\n"
          ]
        }
      ]
    },
    {
      "cell_type": "markdown",
      "source": [
        "Aquí veiem el tipus de dada que hi ha a cada columna i que, a més, no hi ha cap celda buida.\n",
        "\n",
        "Pel primer exemple he mirat [la web](https://machinelearningmastery.com/statistical-hypothesis-tests-in-python-cheat-sheet/) amb els diferents tests d'hipòtesis facilitats a la bibliografia del curs. Crec que un bon primer test és mirar la relació entre els partits guanyats i la probabilitat de gol. Per aquest test he escollit el coeficient de correlació de Pearson."
      ],
      "metadata": {
        "id": "wicLxKr80DmF"
      }
    },
    {
      "cell_type": "code",
      "source": [
        "#Pearson's Correlation test\n",
        "from scipy.stats import pearsonr\n",
        "stat, p = pearsonr(uefa[\"W\"], uefa[\"xG\"])\n",
        "print('stat=%.3f, p=%.3f' % (stat, p))\n",
        "if p > 0.05:\n",
        "\tprint('Probably independent')\n",
        "else:\n",
        "\tprint('Probably dependent')"
      ],
      "metadata": {
        "colab": {
          "base_uri": "https://localhost:8080/"
        },
        "id": "1IqQQS6z23Y0",
        "outputId": "f6f8e6cd-e75c-4443-94a3-97c511943444"
      },
      "execution_count": 8,
      "outputs": [
        {
          "output_type": "stream",
          "name": "stdout",
          "text": [
            "stat=0.851, p=0.000\n",
            "Probably dependent\n"
          ]
        }
      ]
    },
    {
      "cell_type": "markdown",
      "source": [
        "El coeficient de correlació de Pearson ha donat 0,851, que és bastant proper a 1, el que vol dir que hi ha una correlació positiva gairebé linear entre els partits guanyats (W) i la probabilitat de gol (xG).\n",
        "\n",
        "El p value és igual a 0,000, el que vol dir que la evidència a favor de la hipòtesis alternativa és inqüestionable."
      ],
      "metadata": {
        "id": "-tuA5VJPL4v3"
      }
    },
    {
      "cell_type": "markdown",
      "source": [
        "##Exercici 2\n",
        "\n",
        "Amb el mateix dataset selecciona dos altres atributs del conjunt de dades. Calcula els p-valors i digues si rebutgen la hipòtesi nul·la agafant un alfa de 5%."
      ],
      "metadata": {
        "id": "fZWwgffQVrr5"
      }
    },
    {
      "cell_type": "code",
      "source": [
        "#Pearson's Correlation test\n",
        "from scipy.stats import pearsonr\n",
        "stat, p = pearsonr(uefa[\"Pts\"], uefa[\"GA\"])\n",
        "print('stat=%.3f, p=%.3f' % (stat, p))\n",
        "if p > 0.05:\n",
        "\tprint('Probably independent')\n",
        "else:\n",
        "\tprint('Probably dependent')"
      ],
      "metadata": {
        "colab": {
          "base_uri": "https://localhost:8080/"
        },
        "id": "_IQVxZ6DVvFR",
        "outputId": "cbb9b270-a1d3-4cf8-ae5b-47fb87a1e49e"
      },
      "execution_count": 10,
      "outputs": [
        {
          "output_type": "stream",
          "name": "stdout",
          "text": [
            "stat=-0.835, p=0.000\n",
            "Probably dependent\n"
          ]
        }
      ]
    },
    {
      "cell_type": "markdown",
      "source": [
        "##Exercici 3\n",
        "\n",
        "Continua amb el conjunt de dades adjunt i selecciona tres atributs del conjunt de dades. Calcula el p-valor i digues si rebutja la hipòtesi nul·la agafant un alfa de 5%."
      ],
      "metadata": {
        "id": "HvUhNyvgWcSD"
      }
    }
  ]
}